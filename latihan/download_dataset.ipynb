{
 "cells": [
  {
   "cell_type": "code",
   "execution_count": null,
   "metadata": {},
   "outputs": [],
   "source": [
    "import os\n",
    "import shutil\n",
    "import zipfile\n",
    "from kaggle.api.kaggle_api_extended import KaggleApi\n",
    "\n",
    "# Setup direktori\n",
    "dataset_name = \"tolgadincer/labeled-chest-xray-images\"  # Ganti sesuai dataset kamu\n",
    "download_dir = \"datasets\"\n",
    "zip_path = os.path.join(download_dir, \"dataset.zip\")\n",
    "\n",
    "# Konfigurasi Kaggle API\n",
    "os.environ['KAGGLE_CONFIG_DIR'] = os.getcwd()  # Tempatkan kaggle.json di sini\n",
    "\n",
    "# Download dataset\n",
    "api = KaggleApi()\n",
    "api.authenticate()\n",
    "api.dataset_download_files(dataset_name, path=download_dir, unzip=True)\n",
    "\n",
    "print(f\"Dataset {dataset_name} berhasil diunduh ke folder '{download_dir}'\")"
   ]
  }
 ],
 "metadata": {
  "language_info": {
   "name": "python"
  }
 },
 "nbformat": 4,
 "nbformat_minor": 2
}
